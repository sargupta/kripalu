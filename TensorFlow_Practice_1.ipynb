{
  "nbformat": 4,
  "nbformat_minor": 0,
  "metadata": {
    "colab": {
      "name": "TensorFlow_Practice_1.ipynb",
      "version": "0.3.2",
      "provenance": [],
      "include_colab_link": true
    },
    "kernelspec": {
      "name": "python3",
      "display_name": "Python 3"
    }
  },
  "cells": [
    {
      "cell_type": "markdown",
      "metadata": {
        "id": "view-in-github",
        "colab_type": "text"
      },
      "source": [
        "<a href=\"https://colab.research.google.com/github/sargupta/kripalu/blob/master/TensorFlow_Practice_1.ipynb\" target=\"_parent\"><img src=\"https://colab.research.google.com/assets/colab-badge.svg\" alt=\"Open In Colab\"/></a>"
      ]
    },
    {
      "metadata": {
        "id": "mqIgwjR3etbr",
        "colab_type": "code",
        "colab": {}
      },
      "cell_type": "code",
      "source": [
        "import tensorflow as tf"
      ],
      "execution_count": 0,
      "outputs": []
    },
    {
      "metadata": {
        "id": "pCSaEaExe4vP",
        "colab_type": "code",
        "colab": {
          "base_uri": "https://localhost:8080/",
          "height": 34
        },
        "outputId": "9f6b310e-551c-4b57-fef8-6fa029966776"
      },
      "cell_type": "code",
      "source": [
        "print(tf.__version__)"
      ],
      "execution_count": 3,
      "outputs": [
        {
          "output_type": "stream",
          "text": [
            "1.13.1\n"
          ],
          "name": "stdout"
        }
      ]
    },
    {
      "metadata": {
        "id": "2oOrqjhafLsh",
        "colab_type": "code",
        "colab": {
          "resources": {
            "http://localhost:8080/nbextensions/google.colab/files.js": {
              "data": "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",
              "ok": true,
              "headers": [
                [
                  "content-type",
                  "application/javascript"
                ]
              ],
              "status": 200,
              "status_text": ""
            }
          },
          "base_uri": "https://localhost:8080/",
          "height": 173
        },
        "outputId": "4f27a77c-2c35-4358-9010-a447a92933e8"
      },
      "cell_type": "code",
      "source": [
        "import pandas as pd\n",
        "from google.colab import files\n",
        "file = files.upload()"
      ],
      "execution_count": 6,
      "outputs": [
        {
          "output_type": "display_data",
          "data": {
            "text/html": [
              "\n",
              "     <input type=\"file\" id=\"files-a5b0ca54-075a-4c7e-9ebd-89f9be027628\" name=\"files[]\" multiple disabled />\n",
              "     <output id=\"result-a5b0ca54-075a-4c7e-9ebd-89f9be027628\">\n",
              "      Upload widget is only available when the cell has been executed in the\n",
              "      current browser session. Please rerun this cell to enable.\n",
              "      </output>\n",
              "      <script src=\"/nbextensions/google.colab/files.js\"></script> "
            ],
            "text/plain": [
              "<IPython.core.display.HTML object>"
            ]
          },
          "metadata": {
            "tags": []
          }
        },
        {
          "output_type": "stream",
          "text": [
            "Saving xtest.csv to xtest.csv\n",
            "Saving xtrain.csv to xtrain.csv\n",
            "Saving ytest.csv to ytest.csv\n",
            "Saving ytrain.csv to ytrain.csv\n"
          ],
          "name": "stdout"
        }
      ]
    },
    {
      "metadata": {
        "id": "ODtfv6GRiXbi",
        "colab_type": "code",
        "colab": {}
      },
      "cell_type": "code",
      "source": [
        "X_train = pd.read_csv('xtrain.csv', header = None)\n",
        "Y_train = pd.read_csv('ytrain.csv', header = None)\n",
        "X_test = pd.read_csv('xtest.csv', header = None)\n",
        "Y_test = pd.read_csv('ytest.csv', header = None)"
      ],
      "execution_count": 0,
      "outputs": []
    },
    {
      "metadata": {
        "id": "mcPASXWcjiEJ",
        "colab_type": "text"
      },
      "cell_type": "markdown",
      "source": [
        "Now, I am going top use Keras to define a Neural Network that will be trained off of this data. This Neural network then can be used to predict future values for breast cancer presence. "
      ]
    },
    {
      "metadata": {
        "id": "vK7nOdAZtjYZ",
        "colab_type": "code",
        "colab": {}
      },
      "cell_type": "code",
      "source": [
        ""
      ],
      "execution_count": 0,
      "outputs": []
    },
    {
      "metadata": {
        "id": "j73ZFMMZ8D3V",
        "colab_type": "text"
      },
      "cell_type": "markdown",
      "source": [
        "# Build the Model\n",
        "Building the neural network requires configuring the layers of the model, then compiling the model.\n",
        "\n"
      ]
    },
    {
      "metadata": {
        "id": "MbdlPlJ9taeR",
        "colab_type": "code",
        "colab": {
          "base_uri": "https://localhost:8080/",
          "height": 34
        },
        "outputId": "a8997aec-12a1-4eba-fb94-7f09734eab10"
      },
      "cell_type": "code",
      "source": [
        "X_train.shape"
      ],
      "execution_count": 35,
      "outputs": [
        {
          "output_type": "execute_result",
          "data": {
            "text/plain": [
              "(455, 30)"
            ]
          },
          "metadata": {
            "tags": []
          },
          "execution_count": 35
        }
      ]
    },
    {
      "metadata": {
        "id": "CiBMU0lU7o05",
        "colab_type": "text"
      },
      "cell_type": "markdown",
      "source": [
        "## Set-up the Layers\n",
        "\n",
        "\n"
      ]
    },
    {
      "metadata": {
        "id": "6XmHuyzsi2zq",
        "colab_type": "code",
        "colab": {}
      },
      "cell_type": "code",
      "source": [
        "from keras.models import Sequential\n",
        "from keras.layers import Dense\n"
      ],
      "execution_count": 0,
      "outputs": []
    },
    {
      "metadata": {
        "id": "72ocWa7tkKKE",
        "colab_type": "code",
        "colab": {}
      },
      "cell_type": "code",
      "source": [
        "classifier = Sequential()  # Initializing the ANN"
      ],
      "execution_count": 0,
      "outputs": []
    },
    {
      "metadata": {
        "id": "cvnVPSf8kr5Y",
        "colab_type": "code",
        "colab": {
          "base_uri": "https://localhost:8080/",
          "height": 88
        },
        "outputId": "22dfc067-d93d-4e99-c5dd-e1f1577593bf"
      },
      "cell_type": "code",
      "source": [
        "classifier.add(Dense(units = 16, activation = 'relu', input_dim = 30))\n",
        "classifier.add(Dense(units = 8, activation = 'relu'))\n",
        "classifier.add(Dense(units = 6, activation = 'relu'))\n",
        "classifier.add(Dense(units = 1, activation = 'sigmoid'))"
      ],
      "execution_count": 14,
      "outputs": [
        {
          "output_type": "stream",
          "text": [
            "WARNING:tensorflow:From /usr/local/lib/python3.6/dist-packages/tensorflow/python/framework/op_def_library.py:263: colocate_with (from tensorflow.python.framework.ops) is deprecated and will be removed in a future version.\n",
            "Instructions for updating:\n",
            "Colocations handled automatically by placer.\n"
          ],
          "name": "stdout"
        }
      ]
    },
    {
      "metadata": {
        "id": "900uf8_3lwt8",
        "colab_type": "text"
      },
      "cell_type": "markdown",
      "source": [
        "Once the neural network is defined I have to specify the **optimizer** and **Loss Function**"
      ]
    },
    {
      "metadata": {
        "id": "j2vfL_A-7QD1",
        "colab_type": "text"
      },
      "cell_type": "markdown",
      "source": [
        "## Compile the Model"
      ]
    },
    {
      "metadata": {
        "id": "nGqRX0VylQk5",
        "colab_type": "code",
        "colab": {}
      },
      "cell_type": "code",
      "source": [
        "classifier.compile(optimizer = 'rmsprop', loss = 'binary_crossentropy')"
      ],
      "execution_count": 0,
      "outputs": []
    },
    {
      "metadata": {
        "id": "cuu2O-5anM-b",
        "colab_type": "text"
      },
      "cell_type": "markdown",
      "source": [
        "We now train the neural network by using classifier.fit, passing it the training data - i.e, for the X, this is what y should look like. The Neural Network will then find the pattern in the data, and build a neural network that could replicate that. "
      ]
    },
    {
      "metadata": {
        "id": "rG4BNsEo8VTk",
        "colab_type": "text"
      },
      "cell_type": "markdown",
      "source": [
        "# Train the Model\n",
        "\n",
        "Training the neural network model requires the following steps:\n",
        "\n",
        "1. Feed the training data to the model.\n",
        "2. The model learns to associate images and labels.\n",
        "3. We ask the model to make predictions about a test set. We verify that the predictions match the labels from the test_labels array.\n",
        "\n"
      ]
    },
    {
      "metadata": {
        "id": "3pZ3JQPznAQN",
        "colab_type": "code",
        "colab": {
          "base_uri": "https://localhost:8080/",
          "height": 3505
        },
        "outputId": "97f718d3-9dba-4ffc-d5e8-5ba8e27c3c3b"
      },
      "cell_type": "code",
      "source": [
        "classifier.fit(X_train, Y_train, batch_size = 1, epochs = 100)"
      ],
      "execution_count": 17,
      "outputs": [
        {
          "output_type": "stream",
          "text": [
            "WARNING:tensorflow:From /usr/local/lib/python3.6/dist-packages/tensorflow/python/ops/math_ops.py:3066: to_int32 (from tensorflow.python.ops.math_ops) is deprecated and will be removed in a future version.\n",
            "Instructions for updating:\n",
            "Use tf.cast instead.\n",
            "Epoch 1/100\n",
            "455/455 [==============================] - 1s 2ms/step - loss: 0.4091\n",
            "Epoch 2/100\n",
            "455/455 [==============================] - 0s 956us/step - loss: 0.1050\n",
            "Epoch 3/100\n",
            "455/455 [==============================] - 0s 948us/step - loss: 0.0884\n",
            "Epoch 4/100\n",
            "455/455 [==============================] - 0s 953us/step - loss: 0.0863\n",
            "Epoch 5/100\n",
            "455/455 [==============================] - 0s 1ms/step - loss: 0.0767\n",
            "Epoch 6/100\n",
            "455/455 [==============================] - 0s 972us/step - loss: 0.0877\n",
            "Epoch 7/100\n",
            "455/455 [==============================] - 0s 953us/step - loss: 0.0859\n",
            "Epoch 8/100\n",
            "455/455 [==============================] - 0s 952us/step - loss: 0.0881\n",
            "Epoch 9/100\n",
            "455/455 [==============================] - 0s 955us/step - loss: 0.0887\n",
            "Epoch 10/100\n",
            "455/455 [==============================] - 0s 957us/step - loss: 0.0828\n",
            "Epoch 11/100\n",
            "455/455 [==============================] - 0s 953us/step - loss: 0.0829\n",
            "Epoch 12/100\n",
            "455/455 [==============================] - 0s 962us/step - loss: 0.0832\n",
            "Epoch 13/100\n",
            "455/455 [==============================] - 0s 959us/step - loss: 0.0775\n",
            "Epoch 14/100\n",
            "455/455 [==============================] - 0s 972us/step - loss: 0.0800\n",
            "Epoch 15/100\n",
            "455/455 [==============================] - 0s 966us/step - loss: 0.0709\n",
            "Epoch 16/100\n",
            "455/455 [==============================] - 0s 957us/step - loss: 0.0731\n",
            "Epoch 17/100\n",
            "455/455 [==============================] - 0s 959us/step - loss: 0.0642\n",
            "Epoch 18/100\n",
            "455/455 [==============================] - 0s 971us/step - loss: 0.0613\n",
            "Epoch 19/100\n",
            "455/455 [==============================] - 0s 961us/step - loss: 0.0714\n",
            "Epoch 20/100\n",
            "455/455 [==============================] - 0s 954us/step - loss: 0.0750\n",
            "Epoch 21/100\n",
            "455/455 [==============================] - 0s 967us/step - loss: 0.0689\n",
            "Epoch 22/100\n",
            "455/455 [==============================] - 0s 956us/step - loss: 0.0736\n",
            "Epoch 23/100\n",
            "455/455 [==============================] - 0s 954us/step - loss: 0.0689\n",
            "Epoch 24/100\n",
            "455/455 [==============================] - 0s 958us/step - loss: 0.0663\n",
            "Epoch 25/100\n",
            "455/455 [==============================] - 0s 949us/step - loss: 0.0645\n",
            "Epoch 26/100\n",
            "455/455 [==============================] - 0s 944us/step - loss: 0.0589\n",
            "Epoch 27/100\n",
            "455/455 [==============================] - 0s 953us/step - loss: 0.0674\n",
            "Epoch 28/100\n",
            "455/455 [==============================] - 0s 968us/step - loss: 0.0588\n",
            "Epoch 29/100\n",
            "455/455 [==============================] - 0s 951us/step - loss: 0.0772\n",
            "Epoch 30/100\n",
            "455/455 [==============================] - 0s 953us/step - loss: 0.0589\n",
            "Epoch 31/100\n",
            "455/455 [==============================] - 0s 949us/step - loss: 0.0686\n",
            "Epoch 32/100\n",
            "455/455 [==============================] - 0s 983us/step - loss: 0.0549\n",
            "Epoch 33/100\n",
            "455/455 [==============================] - 0s 966us/step - loss: 0.0658\n",
            "Epoch 34/100\n",
            "455/455 [==============================] - 0s 953us/step - loss: 0.0592\n",
            "Epoch 35/100\n",
            "455/455 [==============================] - 0s 965us/step - loss: 0.0562\n",
            "Epoch 36/100\n",
            "455/455 [==============================] - 0s 945us/step - loss: 0.0474\n",
            "Epoch 37/100\n",
            "455/455 [==============================] - 0s 953us/step - loss: 0.0516\n",
            "Epoch 38/100\n",
            "455/455 [==============================] - 0s 956us/step - loss: 0.0552\n",
            "Epoch 39/100\n",
            "455/455 [==============================] - 0s 949us/step - loss: 0.0505\n",
            "Epoch 40/100\n",
            "455/455 [==============================] - 0s 964us/step - loss: 0.0545\n",
            "Epoch 41/100\n",
            "455/455 [==============================] - 0s 966us/step - loss: 0.0498\n",
            "Epoch 42/100\n",
            "455/455 [==============================] - 0s 967us/step - loss: 0.0580\n",
            "Epoch 43/100\n",
            "455/455 [==============================] - 0s 960us/step - loss: 0.0572\n",
            "Epoch 44/100\n",
            "455/455 [==============================] - 0s 949us/step - loss: 0.0585\n",
            "Epoch 45/100\n",
            "455/455 [==============================] - 0s 950us/step - loss: 0.0479\n",
            "Epoch 46/100\n",
            "455/455 [==============================] - 0s 955us/step - loss: 0.0524\n",
            "Epoch 47/100\n",
            "455/455 [==============================] - 0s 970us/step - loss: 0.0407\n",
            "Epoch 48/100\n",
            "455/455 [==============================] - 0s 940us/step - loss: 0.0551\n",
            "Epoch 49/100\n",
            "455/455 [==============================] - 0s 954us/step - loss: 0.0567\n",
            "Epoch 50/100\n",
            "455/455 [==============================] - 0s 940us/step - loss: 0.0544\n",
            "Epoch 51/100\n",
            "455/455 [==============================] - 0s 960us/step - loss: 0.0469\n",
            "Epoch 52/100\n",
            "455/455 [==============================] - 0s 966us/step - loss: 0.0440\n",
            "Epoch 53/100\n",
            "455/455 [==============================] - 0s 956us/step - loss: 0.0412\n",
            "Epoch 54/100\n",
            "455/455 [==============================] - 0s 951us/step - loss: 0.0479\n",
            "Epoch 55/100\n",
            "455/455 [==============================] - 0s 944us/step - loss: 0.0537\n",
            "Epoch 56/100\n",
            "455/455 [==============================] - 0s 960us/step - loss: 0.0606\n",
            "Epoch 57/100\n",
            "455/455 [==============================] - 0s 968us/step - loss: 0.0492\n",
            "Epoch 58/100\n",
            "455/455 [==============================] - 0s 978us/step - loss: 0.0433\n",
            "Epoch 59/100\n",
            "455/455 [==============================] - 0s 946us/step - loss: 0.0340\n",
            "Epoch 60/100\n",
            "455/455 [==============================] - 0s 952us/step - loss: 0.0447\n",
            "Epoch 61/100\n",
            "455/455 [==============================] - 0s 945us/step - loss: 0.0417\n",
            "Epoch 62/100\n",
            "455/455 [==============================] - 0s 965us/step - loss: 0.0399\n",
            "Epoch 63/100\n",
            "455/455 [==============================] - 0s 952us/step - loss: 0.0339\n",
            "Epoch 64/100\n",
            "455/455 [==============================] - 0s 975us/step - loss: 0.0540\n",
            "Epoch 65/100\n",
            "455/455 [==============================] - 0s 967us/step - loss: 0.0362\n",
            "Epoch 66/100\n",
            "455/455 [==============================] - 0s 965us/step - loss: 0.0403\n",
            "Epoch 67/100\n",
            "455/455 [==============================] - 0s 963us/step - loss: 0.0341\n",
            "Epoch 68/100\n",
            "455/455 [==============================] - 0s 961us/step - loss: 0.0338\n",
            "Epoch 69/100\n",
            "455/455 [==============================] - 0s 980us/step - loss: 0.0487\n",
            "Epoch 70/100\n",
            "455/455 [==============================] - 0s 976us/step - loss: 0.0307\n",
            "Epoch 71/100\n",
            "455/455 [==============================] - 0s 959us/step - loss: 0.0391\n",
            "Epoch 72/100\n",
            "455/455 [==============================] - 0s 969us/step - loss: 0.0380\n",
            "Epoch 73/100\n",
            "455/455 [==============================] - 0s 961us/step - loss: 0.0286\n",
            "Epoch 74/100\n",
            "455/455 [==============================] - 0s 973us/step - loss: 0.0190\n",
            "Epoch 75/100\n",
            "455/455 [==============================] - 0s 960us/step - loss: 0.0428\n",
            "Epoch 76/100\n",
            "455/455 [==============================] - 0s 952us/step - loss: 0.0356\n",
            "Epoch 77/100\n",
            "455/455 [==============================] - 0s 957us/step - loss: 0.0302\n",
            "Epoch 78/100\n",
            "455/455 [==============================] - 0s 950us/step - loss: 0.0353\n",
            "Epoch 79/100\n",
            "455/455 [==============================] - 0s 948us/step - loss: 0.0244\n",
            "Epoch 80/100\n",
            "455/455 [==============================] - 0s 950us/step - loss: 0.0263\n",
            "Epoch 81/100\n",
            "455/455 [==============================] - 0s 955us/step - loss: 0.0183\n",
            "Epoch 82/100\n",
            "455/455 [==============================] - 0s 948us/step - loss: 0.0230\n",
            "Epoch 83/100\n",
            "455/455 [==============================] - 0s 955us/step - loss: 0.0255\n",
            "Epoch 84/100\n",
            "455/455 [==============================] - 0s 943us/step - loss: 0.0394\n",
            "Epoch 85/100\n",
            "455/455 [==============================] - 0s 962us/step - loss: 0.0209\n",
            "Epoch 86/100\n",
            "455/455 [==============================] - 0s 956us/step - loss: 0.0263\n",
            "Epoch 87/100\n",
            "455/455 [==============================] - 0s 969us/step - loss: 0.0129\n",
            "Epoch 88/100\n",
            "455/455 [==============================] - 0s 977us/step - loss: 0.0086\n",
            "Epoch 89/100\n",
            "455/455 [==============================] - 0s 945us/step - loss: 0.0126\n",
            "Epoch 90/100\n",
            "455/455 [==============================] - 0s 962us/step - loss: 0.0209\n",
            "Epoch 91/100\n",
            "455/455 [==============================] - 0s 953us/step - loss: 0.0146\n",
            "Epoch 92/100\n",
            "455/455 [==============================] - 0s 965us/step - loss: 0.0126\n",
            "Epoch 93/100\n",
            "455/455 [==============================] - 0s 952us/step - loss: 0.0230\n",
            "Epoch 94/100\n",
            "455/455 [==============================] - 0s 959us/step - loss: 0.0216\n",
            "Epoch 95/100\n",
            "455/455 [==============================] - 0s 971us/step - loss: 0.0106\n",
            "Epoch 96/100\n",
            "455/455 [==============================] - 0s 969us/step - loss: 0.0142\n",
            "Epoch 97/100\n",
            "455/455 [==============================] - 0s 967us/step - loss: 0.0300\n",
            "Epoch 98/100\n",
            "455/455 [==============================] - 0s 968us/step - loss: 0.0108\n",
            "Epoch 99/100\n",
            "455/455 [==============================] - 0s 942us/step - loss: 0.0139\n",
            "Epoch 100/100\n",
            "455/455 [==============================] - 0s 944us/step - loss: 0.0143\n"
          ],
          "name": "stdout"
        },
        {
          "output_type": "execute_result",
          "data": {
            "text/plain": [
              "<keras.callbacks.History at 0x7f7d2788d4a8>"
            ]
          },
          "metadata": {
            "tags": []
          },
          "execution_count": 17
        }
      ]
    },
    {
      "metadata": {
        "id": "RiICFVQ19oKv",
        "colab_type": "text"
      },
      "cell_type": "markdown",
      "source": [
        "# Make Predictions"
      ]
    },
    {
      "metadata": {
        "id": "90fGGMLsobeO",
        "colab_type": "text"
      },
      "cell_type": "markdown",
      "source": [
        "To predict new values, classifier uses classifier.predict. We will pass the test values of X which the NN has not seen and that will give us a predicted result. These predictions will be probabilities, and I will keep them by saying, if the value is greater than 0.5, I will make them 1, else it will be considered as 0. "
      ]
    },
    {
      "metadata": {
        "id": "hmMKOmI-psOF",
        "colab_type": "code",
        "colab": {}
      },
      "cell_type": "code",
      "source": [
        "Y_pred = classifier.predict(X_test)\n",
        "Y_pred = [1 if y>=0.5 else 0 for y in Y_pred]"
      ],
      "execution_count": 0,
      "outputs": []
    },
    {
      "metadata": {
        "id": "wuPoKaxE9Mhm",
        "colab_type": "text"
      },
      "cell_type": "markdown",
      "source": [
        "# Evaluate Model\n"
      ]
    },
    {
      "metadata": {
        "id": "CkXhfDPIq7h5",
        "colab_type": "text"
      },
      "cell_type": "markdown",
      "source": [
        "Now, we can loop through the set of predictions through test set, Y_pred and the actual value of test set, Y_test, and see how alike they are if they are same. Let's incriment 'correct', otherwise 'wrong'. "
      ]
    },
    {
      "metadata": {
        "id": "UEEXphppoMf3",
        "colab_type": "code",
        "colab": {
          "base_uri": "https://localhost:8080/",
          "height": 68
        },
        "outputId": "181ad747-5223-4e63-c662-32f3fda21349"
      },
      "cell_type": "code",
      "source": [
        "total = 0\n",
        "correct = 0\n",
        "wrong = 0\n",
        "\n",
        "for i in Y_pred:\n",
        "  total = total +1\n",
        "  if(Y_test.at[i,0]== Y_pred[i]):\n",
        "    correct = correct +1\n",
        "  else:\n",
        "    wrong = wrong +1\n",
        "    \n",
        "print('Total'+ str(total))\n",
        "print('Correct'+ str(correct))\n",
        "print('wrong' + str(wrong))\n",
        "  \n"
      ],
      "execution_count": 23,
      "outputs": [
        {
          "output_type": "stream",
          "text": [
            "Total114\n",
            "Correct114\n",
            "wrong0\n"
          ],
          "name": "stdout"
        }
      ]
    }
  ]
}